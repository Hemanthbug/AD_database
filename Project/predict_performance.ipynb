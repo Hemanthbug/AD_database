{
 "cells": [
  {
   "cell_type": "code",
   "execution_count": 1,
   "id": "4165de82",
   "metadata": {},
   "outputs": [
    {
     "name": "stdout",
     "output_type": "stream",
     "text": [
      "              precision    recall  f1-score   support\n",
      "\n",
      "           1       0.09      0.17      0.12         6\n",
      "           2       0.27      0.36      0.31        11\n",
      "           3       0.50      0.33      0.40        15\n",
      "           4       0.00      0.00      0.00         1\n",
      "           5       0.33      0.18      0.24        11\n",
      "\n",
      "    accuracy                           0.27        44\n",
      "   macro avg       0.24      0.21      0.21        44\n",
      "weighted avg       0.33      0.27      0.29        44\n",
      "\n"
     ]
    }
   ],
   "source": [
    "import pandas as pd\n",
    "from sklearn.model_selection import train_test_split\n",
    "from sklearn.preprocessing import LabelEncoder\n",
    "from sklearn.ensemble import RandomForestClassifier\n",
    "from sklearn.metrics import classification_report\n",
    "\n",
    "# Load data\n",
    "df = pd.read_csv('employees_data.csv')\n",
    "\n",
    "# Select features and target\n",
    "features = ['salary', 'bonus', 'number_of_working_days', 'department', 'role', 'project_status']\n",
    "target = 'performance_rating'\n",
    "\n",
    "# Encode categorical variables\n",
    "df_encoded = df.copy()\n",
    "for col in ['department', 'role', 'project_status']:\n",
    "    df_encoded[col] = LabelEncoder().fit_transform(df_encoded[col])\n",
    "\n",
    "# Split dataset\n",
    "X = df_encoded[features]\n",
    "y = df_encoded[target]\n",
    "X_train, X_test, y_train, y_test = train_test_split(X, y, test_size=0.2, random_state=42)\n",
    "\n",
    "# Train model\n",
    "model = RandomForestClassifier(random_state=42)\n",
    "model.fit(X_train, y_train)\n",
    "\n",
    "# Evaluate\n",
    "y_pred = model.predict(X_test)\n",
    "print(classification_report(y_test, y_pred))"
   ]
  },
  {
   "cell_type": "code",
   "execution_count": null,
   "id": "e7157dd9",
   "metadata": {},
   "outputs": [],
   "source": []
  }
 ],
 "metadata": {
  "kernelspec": {
   "display_name": "Python 3",
   "language": "python",
   "name": "python3"
  },
  "language_info": {
   "codemirror_mode": {
    "name": "ipython",
    "version": 3
   },
   "file_extension": ".py",
   "mimetype": "text/x-python",
   "name": "python",
   "nbconvert_exporter": "python",
   "pygments_lexer": "ipython3",
   "version": "3.12.1"
  }
 },
 "nbformat": 4,
 "nbformat_minor": 5
}
