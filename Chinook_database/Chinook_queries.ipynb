{
 "cells": [
  {
   "cell_type": "code",
   "execution_count": null,
   "metadata": {},
   "outputs": [],
   "source": [
    "import sqlite3\n",
    "import urllib.request\n",
    "import pandas as pd\n",
    "\n",
    "url = \"https://github.com/lerocha/chinook-database/raw/master/ChinookDatabase/DataSources/Chinook_Sqlite.sqlite\"\n",
    "urllib.request.urlretrieve(url, \"Chinook.sqlite\")\n",
    "\n",
    "conn = sqlite3.connect(\"Chinook.sqlite\")\n",
    "cursor = conn.cursor()"
   ]
  },
  {
   "cell_type": "code",
   "execution_count": 18,
   "metadata": {},
   "outputs": [
    {
     "name": "stdout",
     "output_type": "stream",
     "text": [
      "Tables in Chinook database:\n"
     ]
    },
    {
     "data": {
      "text/html": [
       "<div>\n",
       "<style scoped>\n",
       "    .dataframe tbody tr th:only-of-type {\n",
       "        vertical-align: middle;\n",
       "    }\n",
       "\n",
       "    .dataframe tbody tr th {\n",
       "        vertical-align: top;\n",
       "    }\n",
       "\n",
       "    .dataframe thead th {\n",
       "        text-align: right;\n",
       "    }\n",
       "</style>\n",
       "<table border=\"1\" class=\"dataframe\">\n",
       "  <thead>\n",
       "    <tr style=\"text-align: right;\">\n",
       "      <th></th>\n",
       "      <th>Customer</th>\n",
       "    </tr>\n",
       "  </thead>\n",
       "  <tbody>\n",
       "    <tr>\n",
       "      <th>0</th>\n",
       "      <td>Album</td>\n",
       "    </tr>\n",
       "    <tr>\n",
       "      <th>1</th>\n",
       "      <td>Artist</td>\n",
       "    </tr>\n",
       "    <tr>\n",
       "      <th>2</th>\n",
       "      <td>Customer</td>\n",
       "    </tr>\n",
       "    <tr>\n",
       "      <th>3</th>\n",
       "      <td>Employee</td>\n",
       "    </tr>\n",
       "    <tr>\n",
       "      <th>4</th>\n",
       "      <td>Genre</td>\n",
       "    </tr>\n",
       "    <tr>\n",
       "      <th>5</th>\n",
       "      <td>Invoice</td>\n",
       "    </tr>\n",
       "    <tr>\n",
       "      <th>6</th>\n",
       "      <td>InvoiceLine</td>\n",
       "    </tr>\n",
       "    <tr>\n",
       "      <th>7</th>\n",
       "      <td>MediaType</td>\n",
       "    </tr>\n",
       "    <tr>\n",
       "      <th>8</th>\n",
       "      <td>Playlist</td>\n",
       "    </tr>\n",
       "    <tr>\n",
       "      <th>9</th>\n",
       "      <td>PlaylistTrack</td>\n",
       "    </tr>\n",
       "    <tr>\n",
       "      <th>10</th>\n",
       "      <td>Track</td>\n",
       "    </tr>\n",
       "  </tbody>\n",
       "</table>\n",
       "</div>"
      ],
      "text/plain": [
       "         Customer\n",
       "0           Album\n",
       "1          Artist\n",
       "2        Customer\n",
       "3        Employee\n",
       "4           Genre\n",
       "5         Invoice\n",
       "6     InvoiceLine\n",
       "7       MediaType\n",
       "8        Playlist\n",
       "9   PlaylistTrack\n",
       "10          Track"
      ]
     },
     "execution_count": 18,
     "metadata": {},
     "output_type": "execute_result"
    }
   ],
   "source": [
    "cursor.execute(\"SELECT name FROM sqlite_master WHERE type='table';\")\n",
    "tables = cursor.fetchall()\n",
    "print(\"Tables in Chinook database:\")\n",
    "pd.DataFrame(tables, columns=['Customer'])"
   ]
  },
  {
   "cell_type": "code",
   "execution_count": 23,
   "metadata": {},
   "outputs": [
    {
     "name": "stdout",
     "output_type": "stream",
     "text": [
      "\n",
      "--- Verifying Queries ---\n",
      "\n",
      "First 5 Artists:\n",
      "   ArtistId               Name\n",
      "0         1              AC/DC\n",
      "1         2             Accept\n",
      "2         3          Aerosmith\n",
      "3         4  Alanis Morissette\n",
      "4         5    Alice In Chains\n",
      "\n",
      "First 5 Tracks:\n",
      "   TrackId                                     Name  AlbumId  MediaTypeId  \\\n",
      "0        1  For Those About To Rock (We Salute You)        1            1   \n",
      "1        2                        Balls to the Wall        2            2   \n",
      "2        3                          Fast As a Shark        3            2   \n",
      "3        4                        Restless and Wild        3            2   \n",
      "4        5                     Princess of the Dawn        3            2   \n",
      "\n",
      "   GenreId                                           Composer  Milliseconds  \\\n",
      "0        1          Angus Young, Malcolm Young, Brian Johnson        343719   \n",
      "1        1                                               None        342562   \n",
      "2        1  F. Baltes, S. Kaufman, U. Dirkscneider & W. Ho...        230619   \n",
      "3        1  F. Baltes, R.A. Smith-Diesel, S. Kaufman, U. D...        252051   \n",
      "4        1                         Deaffy & R.A. Smith-Diesel        375418   \n",
      "\n",
      "      Bytes  UnitPrice  \n",
      "0  11170334       0.99  \n",
      "1   5510424       0.99  \n",
      "2   3990994       0.99  \n",
      "3   4331779       0.99  \n",
      "4   6290521       0.99  \n",
      "\n",
      "First 5 Customers from USA:\n",
      "   CustomerId FirstName LastName                Company  \\\n",
      "0          16     Frank   Harris            Google Inc.   \n",
      "1          17      Jack    Smith  Microsoft Corporation   \n",
      "2          18  Michelle   Brooks                   None   \n",
      "3          19       Tim    Goyer             Apple Inc.   \n",
      "4          20       Dan   Miller                   None   \n",
      "\n",
      "                     Address           City State Country  PostalCode  \\\n",
      "0  1600 Amphitheatre Parkway  Mountain View    CA     USA  94043-1351   \n",
      "1            1 Microsoft Way        Redmond    WA     USA  98052-8300   \n",
      "2               627 Broadway       New York    NY     USA  10012-2612   \n",
      "3            1 Infinite Loop      Cupertino    CA     USA       95014   \n",
      "4       541 Del Medio Avenue  Mountain View    CA     USA   94040-111   \n",
      "\n",
      "               Phone                Fax                    Email  SupportRepId  \n",
      "0  +1 (650) 253-0000  +1 (650) 253-0000       fharris@google.com             4  \n",
      "1  +1 (425) 882-8080  +1 (425) 882-8081  jacksmith@microsoft.com             5  \n",
      "2  +1 (212) 221-3546  +1 (212) 221-4679        michelleb@aol.com             3  \n",
      "3  +1 (408) 996-1010  +1 (408) 996-1011         tgoyer@apple.com             3  \n",
      "4  +1 (650) 644-3358               None      dmiller@comcast.com             4  \n"
     ]
    }
   ],
   "source": [
    "# 2. Try some queries to verify that the tables and relations are working.\n",
    "print(\"\\n--- Verifying Queries ---\")\n",
    "\n",
    "\n",
    "query1 = \"SELECT * FROM Artist LIMIT 5;\"\n",
    "df1 = pd.read_sql_query(query1, conn)\n",
    "print(\"\\nFirst 5 Artists:\")\n",
    "print(df1)\n",
    "\n",
    "\n",
    "query2 = \"SELECT * FROM Track LIMIT 5;\"\n",
    "df2 = pd.read_sql_query(query2, conn)\n",
    "print(\"\\nFirst 5 Tracks:\")\n",
    "print(df2)\n",
    "\n",
    "\n",
    "query3 = \"SELECT * FROM Customer WHERE Country = 'USA' LIMIT 5;\"\n",
    "df3 = pd.read_sql_query(query3, conn)\n",
    "print(\"\\nFirst 5 Customers from USA:\")\n",
    "print(df3)\n"
   ]
  },
  {
   "cell_type": "code",
   "execution_count": 20,
   "metadata": {},
   "outputs": [
    {
     "name": "stdout",
     "output_type": "stream",
     "text": [
      "\n",
      "--- Join Across Three Tables ---\n",
      "\n",
      "Customer, Invoice Date, and Track Name:\n",
      "  FirstName LastName          InvoiceDate              TrackName\n",
      "0    Leonie   Köhler  2009-01-01 00:00:00      Balls to the Wall\n",
      "1    Leonie   Köhler  2009-01-01 00:00:00      Restless and Wild\n",
      "2     Bjørn   Hansen  2009-01-02 00:00:00  Put The Finger On You\n",
      "3     Bjørn   Hansen  2009-01-02 00:00:00       Inject The Venom\n",
      "4     Bjørn   Hansen  2009-01-02 00:00:00             Evil Walks\n",
      "5     Bjørn   Hansen  2009-01-02 00:00:00     Breaking The Rules\n",
      "6      Daan  Peeters  2009-01-03 00:00:00            Dog Eat Dog\n",
      "7      Daan  Peeters  2009-01-03 00:00:00               Overdose\n",
      "8      Daan  Peeters  2009-01-03 00:00:00    Love In An Elevator\n",
      "9      Daan  Peeters  2009-01-03 00:00:00      Janie's Got A Gun\n"
     ]
    }
   ],
   "source": [
    "# 3. Try a query statement that joins across at least three tables.\n",
    "print(\"\\n--- Join Across Three Tables ---\")\n",
    "\n",
    "query4 = \"\"\"\n",
    "SELECT c.FirstName, c.LastName, i.InvoiceDate, t.Name AS TrackName\n",
    "FROM Customer c\n",
    "JOIN Invoice i ON c.CustomerId = i.CustomerId\n",
    "JOIN InvoiceLine ii ON i.InvoiceId = ii.InvoiceId\n",
    "JOIN Track t ON ii.TrackId = t.TrackId\n",
    "LIMIT 10;\n",
    "\"\"\"\n",
    "df4 = pd.read_sql_query(query4, conn)\n",
    "print(\"\\nCustomer, Invoice Date, and Track Name:\")\n",
    "print(df4)"
   ]
  },
  {
   "cell_type": "code",
   "execution_count": null,
   "metadata": {},
   "outputs": [
    {
     "name": "stdout",
     "output_type": "stream",
     "text": [
      "\n",
      "--- Timing Unindexed Join Query (10 Runs) ---\n",
      "Unindexed join average time: 0.0006 seconds\n",
      "Individual times: [0.0012, 0.0007, 0.0005, 0.0006, 0.0004, 0.0005, 0.0005, 0.0005, 0.0004, 0.0005]\n"
     ]
    }
   ],
   "source": [
    "print(\"\\n--- Timing Unindexed Join Query (10 Runs) ---\")\n",
    "\n",
    "# First, drop indexes that would normally optimize these joins\n",
    "cursor.executescript(\"\"\"\n",
    "DROP INDEX IF EXISTS IFK_CustomerInvoice;\n",
    "DROP INDEX IF EXISTS IFK_InvoiceLineInvoiceId;\n",
    "DROP INDEX IF EXISTS IFK_InvoiceLineTrackId;\n",
    "\"\"\")\n",
    "conn.commit()\n",
    "\n",
    "# Define our unindexed join query (same as query5 but now without index benefits)\n",
    "unindexed_query = \"\"\"\n",
    "SELECT c.FirstName, c.LastName, i.InvoiceDate, t.Name AS TrackName\n",
    "FROM Customer c\n",
    "JOIN Invoice i ON c.CustomerId = i.CustomerId\n",
    "JOIN InvoiceLine ii ON i.InvoiceId = ii.InvoiceId\n",
    "JOIN Track t ON ii.TrackId = t.TrackId\n",
    "LIMIT 10;\n",
    "\"\"\"\n",
    "\n",
    "# Time the unindexed query\n",
    "times_unindexed = []\n",
    "for _ in range(10):\n",
    "    # Vary the limit to avoid cache effects\n",
    "    current_limit = random.randint(5, 15)\n",
    "    varied_query = unindexed_query.replace('LIMIT 10', f'LIMIT {current_limit}')\n",
    "    \n",
    "    start_time = time.time()\n",
    "    df_unindexed = pd.read_sql_query(varied_query, conn)\n",
    "    end_time = time.time()\n",
    "    times_unindexed.append(end_time - start_time)\n",
    "\n",
    "\n",
    "cursor.executescript(\"\"\"\n",
    "CREATE INDEX IF NOT EXISTS IFK_CustomerInvoice ON Invoice(CustomerId);\n",
    "CREATE INDEX IF NOT EXISTS IFK_InvoiceLineInvoiceId ON InvoiceLine(InvoiceId);\n",
    "CREATE INDEX IF NOT EXISTS IFK_InvoiceLineTrackId ON InvoiceLine(TrackId);\n",
    "\"\"\")\n",
    "conn.commit()\n",
    "\n",
    "\n",
    "print(f\"Unindexed join average time: {sum(times_unindexed)/len(times_unindexed):.4f} seconds\")\n",
    "print(f\"Individual times: {[round(t, 4) for t in times_unindexed]}\")"
   ]
  },
  {
   "cell_type": "code",
   "execution_count": 25,
   "metadata": {},
   "outputs": [
    {
     "name": "stdout",
     "output_type": "stream",
     "text": [
      "\n",
      "--- Timing Unindexed Query (10 Runs) ---\n",
      "Average time: 0.0008382558822631836 seconds\n"
     ]
    }
   ],
   "source": [
    "# 5. Find a way to time the query from #4 using tools available. Find the average of 10 queries. Vary the details a bit to avoid cache effects.\n",
    "print(\"\\n--- Timing Unindexed Query (10 Runs) ---\")\n",
    "import time\n",
    "import random\n",
    "times = []\n",
    "\n",
    "query5 = \"\"\"\n",
    "SELECT c.FirstName, c.LastName, i.InvoiceDate, t.Name AS TrackName\n",
    "FROM Customer c\n",
    "JOIN Invoice i ON c.CustomerId = i.CustomerId\n",
    "JOIN InvoiceLine ii ON i.InvoiceId = ii.InvoiceId\n",
    "JOIN Track t ON ii.TrackId = t.TrackId\n",
    "LIMIT 10;\n",
    "\"\"\"\n",
    "for _ in range(10):\n",
    "    start_time = time.time()\n",
    "    df5 = pd.read_sql_query(query5, conn)\n",
    "    end_time = time.time()\n",
    "    times.append(end_time - start_time)\n",
    "    # Vary the limit to avoid cache effects\n",
    "    query5_vary = query5.replace('LIMIT 10', f'LIMIT {random.randint(5, 15)}')\n",
    "\n",
    "print(f\"Average time: {sum(times) / len(times)} seconds\")\n"
   ]
  },
  {
   "cell_type": "code",
   "execution_count": null,
   "metadata": {},
   "outputs": [
    {
     "name": "stdout",
     "output_type": "stream",
     "text": [
      "\n",
      "--- Creating Indexes ---\n"
     ]
    }
   ],
   "source": [
    "# 6. Create some index capabilities for the tables that will speed up the queries.\n",
    "\n",
    "print(\"\\n--- Creating Indexes ---\")\n",
    "\n",
    "cursor.executescript(\"\"\"\n",
    "CREATE INDEX IF NOT EXISTS idx_CustomerId ON Customer(CustomerId);\n",
    "CREATE INDEX IF NOT EXISTS idx_InvoiceId ON Invoice(InvoiceId);\n",
    "CREATE INDEX IF NOT EXISTS idx_TrackId ON Track(TrackId);\n",
    "CREATE INDEX IF NOT EXISTS idx_InvoiceLine_InvoiceId ON InvoiceLine(InvoiceId);\n",
    "CREATE INDEX IF NOT EXISTS idx_InvoiceLine_TrackId ON InvoiceLine(TrackId);\n",
    "\n",
    "-- Additional indexes that might help with our specific query\n",
    "CREATE INDEX IF NOT EXISTS idx_Customer_Country ON Customer(Country);\n",
    "CREATE INDEX IF NOT EXISTS idx_Invoice_CustomerId ON Invoice(CustomerId);\n",
    "\"\"\")\n",
    "conn.commit()\n",
    "\n"
   ]
  },
  {
   "cell_type": "code",
   "execution_count": 31,
   "metadata": {},
   "outputs": [
    {
     "name": "stdout",
     "output_type": "stream",
     "text": [
      "\n",
      "--- Timing Indexed Query (10 Runs) ---\n",
      "Average time (indexed): 0.0006811857223510742 seconds\n"
     ]
    }
   ],
   "source": [
    "# 7. Time the queries again, to see if the effect worked.\n",
    "print(\"\\n--- Timing Indexed Query (10 Runs) ---\")\n",
    "\n",
    "query6 = \"\"\"\n",
    "SELECT c.FirstName, c.LastName, i.InvoiceDate, t.Name AS TrackName\n",
    "FROM Customer c\n",
    "JOIN Invoice i ON c.CustomerId = i.CustomerId\n",
    "JOIN InvoiceLine ii ON i.InvoiceId = ii.InvoiceId\n",
    "JOIN Track t ON ii.TrackId = t.TrackId\n",
    "LIMIT 10;\n",
    "\"\"\"\n",
    "\n",
    "times_indexed = []\n",
    "for _ in range(10):\n",
    "    start_time = time.time()\n",
    "    df6 = pd.read_sql_query(query6, conn)\n",
    "    end_time = time.time()\n",
    "    times_indexed.append(end_time - start_time)\n",
    "    query6_vary = query6.replace('LIMIT 10', f'LIMIT {random.randint(5, 15)}')\n",
    "\n",
    "print(f\"Average time (indexed): {sum(times_indexed) / len(times_indexed)} seconds\")"
   ]
  },
  {
   "cell_type": "code",
   "execution_count": 28,
   "metadata": {},
   "outputs": [
    {
     "name": "stdout",
     "output_type": "stream",
     "text": [
      "\n",
      "--- Query Plan ---\n",
      "    0  1  2                                                  3\n",
      "0   6  0  0                       SCAN TABLE InvoiceLine AS ii\n",
      "1   8  0  0  SEARCH TABLE Invoice AS i USING INTEGER PRIMAR...\n",
      "2  11  0  0  SEARCH TABLE Customer AS c USING INTEGER PRIMA...\n",
      "3  14  0  0  SEARCH TABLE Track AS t USING INTEGER PRIMARY ...\n"
     ]
    }
   ],
   "source": [
    "# 8. Look at the query plan to make sure the index capabilities are being used.\n",
    "print(\"\\n--- Query Plan ---\")\n",
    "\n",
    "cursor.execute(\"EXPLAIN QUERY PLAN \" + query6)\n",
    "query_plan = cursor.fetchall()\n",
    "print(pd.DataFrame(query_plan))\n"
   ]
  },
  {
   "cell_type": "code",
   "execution_count": null,
   "metadata": {},
   "outputs": [],
   "source": [
    "conn.close()"
   ]
  },
  {
   "cell_type": "code",
   "execution_count": null,
   "metadata": {},
   "outputs": [],
   "source": []
  }
 ],
 "metadata": {
  "kernelspec": {
   "display_name": "Python 3",
   "language": "python",
   "name": "python3"
  },
  "language_info": {
   "codemirror_mode": {
    "name": "ipython",
    "version": 3
   },
   "file_extension": ".py",
   "mimetype": "text/x-python",
   "name": "python",
   "nbconvert_exporter": "python",
   "pygments_lexer": "ipython3",
   "version": "3.12.1"
  }
 },
 "nbformat": 4,
 "nbformat_minor": 2
}
